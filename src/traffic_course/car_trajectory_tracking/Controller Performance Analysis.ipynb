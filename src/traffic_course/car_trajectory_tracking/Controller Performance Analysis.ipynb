{
 "cells": [
  {
   "cell_type": "markdown",
   "id": "adjacent-sheep",
   "metadata": {},
   "source": [
    "# Controller Performance Analysis"
   ]
  },
  {
   "cell_type": "code",
   "execution_count": 1,
   "id": "golden-lancaster",
   "metadata": {},
   "outputs": [],
   "source": [
    "import os\n",
    "import pandas as pd\n",
    "import numpy as np\n",
    "from scipy import stats"
   ]
  },
  {
   "cell_type": "code",
   "execution_count": 2,
   "id": "overall-johnston",
   "metadata": {},
   "outputs": [],
   "source": [
    "results_directory = 'Results' # Define results directory name"
   ]
  },
  {
   "cell_type": "markdown",
   "id": "extreme-sculpture",
   "metadata": {},
   "source": [
    "## Path Tracking Error\n",
    "\n",
    "This part of the script loads the `Tracking Error Log.csv` and reads the following data:\n",
    "* Cross-Track Error (CTE)\n",
    "* Heading Error (HE)\n",
    "\n",
    "It then computes the following metrics for both `CTE` and `HE`:\n",
    "* Mean Absolute Error (MAE)\n",
    "* Mean Squared Error (MSE)\n",
    "* Root Mean Squared Error (RMSE) "
   ]
  },
  {
   "cell_type": "markdown",
   "id": "sweet-relaxation",
   "metadata": {},
   "source": [
    "### Import and Read Data"
   ]
  },
  {
   "cell_type": "code",
   "execution_count": 3,
   "id": "dutch-reward",
   "metadata": {},
   "outputs": [
    {
     "data": {
      "text/html": [
       "<div>\n",
       "<style scoped>\n",
       "    .dataframe tbody tr th:only-of-type {\n",
       "        vertical-align: middle;\n",
       "    }\n",
       "\n",
       "    .dataframe tbody tr th {\n",
       "        vertical-align: top;\n",
       "    }\n",
       "\n",
       "    .dataframe thead th {\n",
       "        text-align: right;\n",
       "    }\n",
       "</style>\n",
       "<table border=\"1\" class=\"dataframe\">\n",
       "  <thead>\n",
       "    <tr style=\"text-align: right;\">\n",
       "      <th></th>\n",
       "      <th>Cross-Track Error (m)</th>\n",
       "      <th>Heading Error (rad)</th>\n",
       "    </tr>\n",
       "  </thead>\n",
       "  <tbody>\n",
       "    <tr>\n",
       "      <th>0</th>\n",
       "      <td>2.439797</td>\n",
       "      <td>-0.003218</td>\n",
       "    </tr>\n",
       "    <tr>\n",
       "      <th>1</th>\n",
       "      <td>2.439797</td>\n",
       "      <td>-0.003218</td>\n",
       "    </tr>\n",
       "    <tr>\n",
       "      <th>2</th>\n",
       "      <td>2.439797</td>\n",
       "      <td>-0.003218</td>\n",
       "    </tr>\n",
       "    <tr>\n",
       "      <th>3</th>\n",
       "      <td>2.439856</td>\n",
       "      <td>-0.003187</td>\n",
       "    </tr>\n",
       "    <tr>\n",
       "      <th>4</th>\n",
       "      <td>2.439848</td>\n",
       "      <td>-0.003191</td>\n",
       "    </tr>\n",
       "  </tbody>\n",
       "</table>\n",
       "</div>"
      ],
      "text/plain": [
       "   Cross-Track Error (m)  Heading Error (rad)\n",
       "0               2.439797            -0.003218\n",
       "1               2.439797            -0.003218\n",
       "2               2.439797            -0.003218\n",
       "3               2.439856            -0.003187\n",
       "4               2.439848            -0.003191"
      ]
     },
     "execution_count": 3,
     "metadata": {},
     "output_type": "execute_result"
    }
   ],
   "source": [
    "error_column_names = ['Cross-Track Error (m)', 'Heading Error (rad)'] # Define column names\n",
    "\n",
    "# Read the data\n",
    "error_data = pd.read_csv(os.path.join(results_directory,'Tracking Error Log.csv'), names = error_column_names)\n",
    "pd.set_option('display.max_colwidth', None)\n",
    "\n",
    "error_data.head() # View the first 5 entries in the dataframe (sanity check)"
   ]
  },
  {
   "cell_type": "code",
   "execution_count": 4,
   "id": "settled-chess",
   "metadata": {},
   "outputs": [],
   "source": [
    "def load_error_data(dataframe):\n",
    "    cte = []\n",
    "    he = []\n",
    "    for i in range(len(dataframe)):\n",
    "        indexed_data = dataframe.iloc[i]\n",
    "        cte.append(float(indexed_data[0]))\n",
    "        he.append(float(indexed_data[1]))\n",
    "    cte = np.asarray(cte)\n",
    "    he = np.asarray(he)\n",
    "    return cte, he\n",
    "\n",
    "cte, he = load_error_data(error_data)"
   ]
  },
  {
   "cell_type": "markdown",
   "id": "taken-disease",
   "metadata": {},
   "source": [
    "### Cross-Track Error"
   ]
  },
  {
   "cell_type": "code",
   "execution_count": 5,
   "id": "exclusive-bunch",
   "metadata": {},
   "outputs": [
    {
     "name": "stdout",
     "output_type": "stream",
     "text": [
      "MAE:  0.17611485879123953 m\n",
      "MSE:  0.12071095400949747 m\n",
      "RMSE: 0.34743481980005614 m\n"
     ]
    }
   ],
   "source": [
    "cte_mae = np.sum(np.abs(cte))/len(cte)\n",
    "cte_mse = np.sum(np.square(cte))/len(cte)\n",
    "cte_rmse = np.sqrt(cte_mse)\n",
    "print(\"MAE:  {} m\\nMSE:  {} m\\nRMSE: {} m\".format(cte_mae, cte_mse, cte_rmse))"
   ]
  },
  {
   "cell_type": "markdown",
   "id": "jewish-pattern",
   "metadata": {},
   "source": [
    "### Heading Error"
   ]
  },
  {
   "cell_type": "code",
   "execution_count": 6,
   "id": "bright-policy",
   "metadata": {},
   "outputs": [
    {
     "name": "stdout",
     "output_type": "stream",
     "text": [
      "MAE:  0.007904664067194781 rad\n",
      "MSE:  0.0005232219718697905 rad\n",
      "RMSE: 0.022874045813318433 rad\n"
     ]
    }
   ],
   "source": [
    "he_mae = np.sum(np.abs(he))/len(he)\n",
    "he_mse = np.sum(np.square(he))/len(he)\n",
    "he_rmse = np.sqrt(he_mse)\n",
    "print(\"MAE:  {} rad\\nMSE:  {} rad\\nRMSE: {} rad\".format(he_mae, he_mse, he_rmse))"
   ]
  },
  {
   "cell_type": "markdown",
   "id": "scheduled-finland",
   "metadata": {},
   "source": [
    "## Latency\n",
    "\n",
    "This part of the script loads the `Latency Log.csv` and reads the latency values. It then computes the following metrics:\n",
    "* Latency Mean\n",
    "* Latency Median\n",
    "* Latency Mode"
   ]
  },
  {
   "cell_type": "markdown",
   "id": "compatible-manhattan",
   "metadata": {},
   "source": [
    "### Import and Read Data"
   ]
  },
  {
   "cell_type": "code",
   "execution_count": 7,
   "id": "promotional-think",
   "metadata": {},
   "outputs": [
    {
     "data": {
      "text/html": [
       "<div>\n",
       "<style scoped>\n",
       "    .dataframe tbody tr th:only-of-type {\n",
       "        vertical-align: middle;\n",
       "    }\n",
       "\n",
       "    .dataframe tbody tr th {\n",
       "        vertical-align: top;\n",
       "    }\n",
       "\n",
       "    .dataframe thead th {\n",
       "        text-align: right;\n",
       "    }\n",
       "</style>\n",
       "<table border=\"1\" class=\"dataframe\">\n",
       "  <thead>\n",
       "    <tr style=\"text-align: right;\">\n",
       "      <th></th>\n",
       "      <th>Latency (ms)</th>\n",
       "    </tr>\n",
       "  </thead>\n",
       "  <tbody>\n",
       "    <tr>\n",
       "      <th>0</th>\n",
       "      <td>1.992941</td>\n",
       "    </tr>\n",
       "    <tr>\n",
       "      <th>1</th>\n",
       "      <td>1.993418</td>\n",
       "    </tr>\n",
       "    <tr>\n",
       "      <th>2</th>\n",
       "      <td>0.995874</td>\n",
       "    </tr>\n",
       "    <tr>\n",
       "      <th>3</th>\n",
       "      <td>1.994610</td>\n",
       "    </tr>\n",
       "    <tr>\n",
       "      <th>4</th>\n",
       "      <td>1.993895</td>\n",
       "    </tr>\n",
       "  </tbody>\n",
       "</table>\n",
       "</div>"
      ],
      "text/plain": [
       "   Latency (ms)\n",
       "0      1.992941\n",
       "1      1.993418\n",
       "2      0.995874\n",
       "3      1.994610\n",
       "4      1.993895"
      ]
     },
     "execution_count": 7,
     "metadata": {},
     "output_type": "execute_result"
    }
   ],
   "source": [
    "# Define column names\n",
    "latency_column_names = ['Latency (ms)']\n",
    "\n",
    "# Read the data\n",
    "latency_data = pd.read_csv(os.path.join(results_directory,'Latency Log.csv'), names = latency_column_names)\n",
    "pd.set_option('display.max_colwidth', None)\n",
    "\n",
    "# View the first 5 entries in the dataframe (sanity check)\n",
    "latency_data.head()"
   ]
  },
  {
   "cell_type": "code",
   "execution_count": 8,
   "id": "certain-toolbox",
   "metadata": {},
   "outputs": [],
   "source": [
    "def load_latency_data(dataframe):\n",
    "    latency = []\n",
    "    for i in range(len(dataframe)):\n",
    "        indexed_data = dataframe.iloc[i]\n",
    "        if float(indexed_data[0]) != 0:\n",
    "            latency.append(float(indexed_data[0]))\n",
    "    latency = np.asarray(latency)\n",
    "    return latency\n",
    "\n",
    "latency = load_latency_data(latency_data)"
   ]
  },
  {
   "cell_type": "markdown",
   "id": "moved-initial",
   "metadata": {},
   "source": [
    "### Latency"
   ]
  },
  {
   "cell_type": "code",
   "execution_count": 9,
   "id": "compact-details",
   "metadata": {},
   "outputs": [
    {
     "name": "stdout",
     "output_type": "stream",
     "text": [
      "Mean:   3.2392822462921247 ms\n",
      "Median: 2.993106842 ms\n",
      "Mode:   2.9921531676999997 ms [Count = 80]\n"
     ]
    }
   ],
   "source": [
    "latency_mean = np.mean(latency)\n",
    "latency_median = np.median(latency)\n",
    "latency_mode = stats.mode(latency)\n",
    "print(\"Mean:   {} ms\\nMedian: {} ms\\nMode:   {} ms [Count = {}]\".format(latency_mean, latency_median, latency_mode[0][0], latency_mode[1][0]))"
   ]
  }
 ],
 "metadata": {
  "kernelspec": {
   "display_name": "Python 3",
   "language": "python",
   "name": "python3"
  },
  "language_info": {
   "codemirror_mode": {
    "name": "ipython",
    "version": 3
   },
   "file_extension": ".py",
   "mimetype": "text/x-python",
   "name": "python",
   "nbconvert_exporter": "python",
   "pygments_lexer": "ipython3",
   "version": "3.6.5"
  }
 },
 "nbformat": 4,
 "nbformat_minor": 5
}
